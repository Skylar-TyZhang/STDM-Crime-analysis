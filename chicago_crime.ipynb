{
 "cells": [
  {
   "attachments": {},
   "cell_type": "markdown",
   "metadata": {},
   "source": [
    "## Data exploration "
   ]
  },
  {
   "cell_type": "code",
   "execution_count": 2,
   "metadata": {},
   "outputs": [],
   "source": [
    "%matplotlib inline\n",
    "import matplotlib.pyplot as plt\n",
    "import numpy as np\n",
    "import pandas as pd\n",
    "import geopandas as gpd\n",
    "from shapely.geometry import Point\n"
   ]
  },
  {
   "attachments": {},
   "cell_type": "markdown",
   "metadata": {},
   "source": [
    "Load the data set and clean it "
   ]
  },
  {
   "cell_type": "code",
   "execution_count": 3,
   "metadata": {},
   "outputs": [],
   "source": [
    "df_chicago=pd.read_csv('Crime/Crimes_-_2001_to_Present.csv',index_col='ID')\n",
    "# clean the data without geocode and time stamp\n",
    "df_chicago=df_chicago.dropna(subset=['Date','Location'])\n",
    "df_chicago['Date']=pd.to_datetime(df_chicago['Date'])\n",
    "# correct the value of crime type\n",
    "df_chicago['Primary Type'].replace('CRIM SEXUAL ASSAULT','CRIMINAL SEXUAL ASSAULT',inplace=True)"
   ]
  },
  {
   "cell_type": "code",
   "execution_count": 9,
   "metadata": {},
   "outputs": [],
   "source": [
    "#get geometry point of data\n",
    "df_chicago['Location'] = df_chicago.apply(lambda row: Point(row.Longitude, row.Latitude), axis=1)\n",
    "# get geopandas frame\n",
    "df_chicago=gpd.GeoDataFrame(df_chicago,geometry='Location')"
   ]
  },
  {
   "attachments": {},
   "cell_type": "markdown",
   "metadata": {},
   "source": [
    "Now combine the data set with the [boundary data of chicago](https://data.cityofchicago.org/Facilities-Geographic-Boundaries/Boundaries-Community-Areas-current-/cauq-8yn6)"
   ]
  },
  {
   "cell_type": "code",
   "execution_count": 10,
   "metadata": {},
   "outputs": [],
   "source": [
    "geof='Crime/Boundaries - Community Areas (current).geojson'\n",
    "chicago_area=gpd.read_file(geof)\n",
    "# only keep teh information of commuity and geometry\n",
    "chicago_area=chicago_area[['community','area_numbe','geometry']]\n",
    "chicago_area=chicago_area.rename(columns={'area_numbe':'area_num'})"
   ]
  },
  {
   "cell_type": "code",
   "execution_count": 11,
   "metadata": {},
   "outputs": [],
   "source": [
    "#set crs to the geo data frame\n",
    "df_chicago=df_chicago.set_crs(chicago_area.crs)\n",
    "#sptial join \n",
    "df_chicago= df_chicago.sjoin(chicago_area, how='inner',predicate='within')"
   ]
  },
  {
   "cell_type": "code",
   "execution_count": 13,
   "metadata": {},
   "outputs": [
    {
     "data": {
      "text/html": [
       "<div>\n",
       "<style scoped>\n",
       "    .dataframe tbody tr th:only-of-type {\n",
       "        vertical-align: middle;\n",
       "    }\n",
       "\n",
       "    .dataframe tbody tr th {\n",
       "        vertical-align: top;\n",
       "    }\n",
       "\n",
       "    .dataframe thead th {\n",
       "        text-align: right;\n",
       "    }\n",
       "</style>\n",
       "<table border=\"1\" class=\"dataframe\">\n",
       "  <thead>\n",
       "    <tr style=\"text-align: right;\">\n",
       "      <th></th>\n",
       "      <th>Case Number</th>\n",
       "      <th>Date</th>\n",
       "      <th>Block</th>\n",
       "      <th>IUCR</th>\n",
       "      <th>Primary Type</th>\n",
       "      <th>Description</th>\n",
       "      <th>Location Description</th>\n",
       "      <th>Arrest</th>\n",
       "      <th>Domestic</th>\n",
       "      <th>Beat</th>\n",
       "      <th>...</th>\n",
       "      <th>X Coordinate</th>\n",
       "      <th>Y Coordinate</th>\n",
       "      <th>Year</th>\n",
       "      <th>Updated On</th>\n",
       "      <th>Latitude</th>\n",
       "      <th>Longitude</th>\n",
       "      <th>Location</th>\n",
       "      <th>index_right</th>\n",
       "      <th>community</th>\n",
       "      <th>area_num</th>\n",
       "    </tr>\n",
       "    <tr>\n",
       "      <th>ID</th>\n",
       "      <th></th>\n",
       "      <th></th>\n",
       "      <th></th>\n",
       "      <th></th>\n",
       "      <th></th>\n",
       "      <th></th>\n",
       "      <th></th>\n",
       "      <th></th>\n",
       "      <th></th>\n",
       "      <th></th>\n",
       "      <th></th>\n",
       "      <th></th>\n",
       "      <th></th>\n",
       "      <th></th>\n",
       "      <th></th>\n",
       "      <th></th>\n",
       "      <th></th>\n",
       "      <th></th>\n",
       "      <th></th>\n",
       "      <th></th>\n",
       "      <th></th>\n",
       "    </tr>\n",
       "  </thead>\n",
       "  <tbody>\n",
       "    <tr>\n",
       "      <th>10224853</th>\n",
       "      <td>HY411790</td>\n",
       "      <td>2015-09-05 16:15:00</td>\n",
       "      <td>041XX W FIFTH AVE</td>\n",
       "      <td>1570</td>\n",
       "      <td>SEX OFFENSE</td>\n",
       "      <td>PUBLIC INDECENCY</td>\n",
       "      <td>SIDEWALK</td>\n",
       "      <td>True</td>\n",
       "      <td>False</td>\n",
       "      <td>1132</td>\n",
       "      <td>...</td>\n",
       "      <td>1148735.0</td>\n",
       "      <td>1896483.0</td>\n",
       "      <td>2015</td>\n",
       "      <td>09/17/2015 11:37:18 AM</td>\n",
       "      <td>41.871884</td>\n",
       "      <td>-87.729404</td>\n",
       "      <td>POINT (-87.72940 41.87188)</td>\n",
       "      <td>26</td>\n",
       "      <td>WEST GARFIELD PARK</td>\n",
       "      <td>26</td>\n",
       "    </tr>\n",
       "    <tr>\n",
       "      <th>10232192</th>\n",
       "      <td>HY419551</td>\n",
       "      <td>2015-09-10 16:00:00</td>\n",
       "      <td>039XX W GLADYS AVE</td>\n",
       "      <td>1750</td>\n",
       "      <td>OFFENSE INVOLVING CHILDREN</td>\n",
       "      <td>CHILD ABUSE</td>\n",
       "      <td>RESIDENCE</td>\n",
       "      <td>False</td>\n",
       "      <td>True</td>\n",
       "      <td>1132</td>\n",
       "      <td>...</td>\n",
       "      <td>1150207.0</td>\n",
       "      <td>1898066.0</td>\n",
       "      <td>2015</td>\n",
       "      <td>02/10/2018 03:50:01 PM</td>\n",
       "      <td>41.876199</td>\n",
       "      <td>-87.723958</td>\n",
       "      <td>POINT (-87.72396 41.87620)</td>\n",
       "      <td>26</td>\n",
       "      <td>WEST GARFIELD PARK</td>\n",
       "      <td>26</td>\n",
       "    </tr>\n",
       "    <tr>\n",
       "      <th>10329071</th>\n",
       "      <td>HY519515</td>\n",
       "      <td>2015-11-29 15:00:00</td>\n",
       "      <td>038XX W WILCOX ST</td>\n",
       "      <td>281</td>\n",
       "      <td>CRIMINAL SEXUAL ASSAULT</td>\n",
       "      <td>NON-AGGRAVATED</td>\n",
       "      <td>OTHER</td>\n",
       "      <td>False</td>\n",
       "      <td>False</td>\n",
       "      <td>1122</td>\n",
       "      <td>...</td>\n",
       "      <td>1150799.0</td>\n",
       "      <td>1899061.0</td>\n",
       "      <td>2015</td>\n",
       "      <td>02/10/2018 03:50:01 PM</td>\n",
       "      <td>41.878918</td>\n",
       "      <td>-87.721758</td>\n",
       "      <td>POINT (-87.72176 41.87892)</td>\n",
       "      <td>26</td>\n",
       "      <td>WEST GARFIELD PARK</td>\n",
       "      <td>26</td>\n",
       "    </tr>\n",
       "    <tr>\n",
       "      <th>10240564</th>\n",
       "      <td>HY428120</td>\n",
       "      <td>2015-09-17 20:00:00</td>\n",
       "      <td>039XX W WASHINGTON BLVD</td>\n",
       "      <td>281</td>\n",
       "      <td>CRIMINAL SEXUAL ASSAULT</td>\n",
       "      <td>NON-AGGRAVATED</td>\n",
       "      <td>RESIDENCE</td>\n",
       "      <td>False</td>\n",
       "      <td>False</td>\n",
       "      <td>1122</td>\n",
       "      <td>...</td>\n",
       "      <td>1150014.0</td>\n",
       "      <td>1900125.0</td>\n",
       "      <td>2015</td>\n",
       "      <td>02/10/2018 03:50:01 PM</td>\n",
       "      <td>41.881853</td>\n",
       "      <td>-87.724613</td>\n",
       "      <td>POINT (-87.72461 41.88185)</td>\n",
       "      <td>26</td>\n",
       "      <td>WEST GARFIELD PARK</td>\n",
       "      <td>26</td>\n",
       "    </tr>\n",
       "    <tr>\n",
       "      <th>10242207</th>\n",
       "      <td>HY430128</td>\n",
       "      <td>2015-09-18 22:35:00</td>\n",
       "      <td>044XX W MADISON ST</td>\n",
       "      <td>1506</td>\n",
       "      <td>PROSTITUTION</td>\n",
       "      <td>SOLICIT ON PUBLIC WAY</td>\n",
       "      <td>SIDEWALK</td>\n",
       "      <td>True</td>\n",
       "      <td>False</td>\n",
       "      <td>1113</td>\n",
       "      <td>...</td>\n",
       "      <td>1146742.0</td>\n",
       "      <td>1899645.0</td>\n",
       "      <td>2015</td>\n",
       "      <td>02/10/2018 03:50:01 PM</td>\n",
       "      <td>41.880599</td>\n",
       "      <td>-87.736640</td>\n",
       "      <td>POINT (-87.73664 41.88060)</td>\n",
       "      <td>26</td>\n",
       "      <td>WEST GARFIELD PARK</td>\n",
       "      <td>26</td>\n",
       "    </tr>\n",
       "  </tbody>\n",
       "</table>\n",
       "<p>5 rows × 24 columns</p>\n",
       "</div>"
      ],
      "text/plain": [
       "         Case Number                Date                    Block  IUCR  \\\n",
       "ID                                                                        \n",
       "10224853    HY411790 2015-09-05 16:15:00        041XX W FIFTH AVE  1570   \n",
       "10232192    HY419551 2015-09-10 16:00:00       039XX W GLADYS AVE  1750   \n",
       "10329071    HY519515 2015-11-29 15:00:00        038XX W WILCOX ST   281   \n",
       "10240564    HY428120 2015-09-17 20:00:00  039XX W WASHINGTON BLVD   281   \n",
       "10242207    HY430128 2015-09-18 22:35:00       044XX W MADISON ST  1506   \n",
       "\n",
       "                        Primary Type            Description  \\\n",
       "ID                                                            \n",
       "10224853                 SEX OFFENSE       PUBLIC INDECENCY   \n",
       "10232192  OFFENSE INVOLVING CHILDREN            CHILD ABUSE   \n",
       "10329071     CRIMINAL SEXUAL ASSAULT         NON-AGGRAVATED   \n",
       "10240564     CRIMINAL SEXUAL ASSAULT         NON-AGGRAVATED   \n",
       "10242207                PROSTITUTION  SOLICIT ON PUBLIC WAY   \n",
       "\n",
       "         Location Description  Arrest  Domestic  Beat  ...  X Coordinate  \\\n",
       "ID                                                     ...                 \n",
       "10224853             SIDEWALK    True     False  1132  ...     1148735.0   \n",
       "10232192            RESIDENCE   False      True  1132  ...     1150207.0   \n",
       "10329071                OTHER   False     False  1122  ...     1150799.0   \n",
       "10240564            RESIDENCE   False     False  1122  ...     1150014.0   \n",
       "10242207             SIDEWALK    True     False  1113  ...     1146742.0   \n",
       "\n",
       "          Y Coordinate  Year              Updated On   Latitude  Longitude  \\\n",
       "ID                                                                           \n",
       "10224853     1896483.0  2015  09/17/2015 11:37:18 AM  41.871884 -87.729404   \n",
       "10232192     1898066.0  2015  02/10/2018 03:50:01 PM  41.876199 -87.723958   \n",
       "10329071     1899061.0  2015  02/10/2018 03:50:01 PM  41.878918 -87.721758   \n",
       "10240564     1900125.0  2015  02/10/2018 03:50:01 PM  41.881853 -87.724613   \n",
       "10242207     1899645.0  2015  02/10/2018 03:50:01 PM  41.880599 -87.736640   \n",
       "\n",
       "                            Location index_right           community  area_num  \n",
       "ID                                                                              \n",
       "10224853  POINT (-87.72940 41.87188)          26  WEST GARFIELD PARK        26  \n",
       "10232192  POINT (-87.72396 41.87620)          26  WEST GARFIELD PARK        26  \n",
       "10329071  POINT (-87.72176 41.87892)          26  WEST GARFIELD PARK        26  \n",
       "10240564  POINT (-87.72461 41.88185)          26  WEST GARFIELD PARK        26  \n",
       "10242207  POINT (-87.73664 41.88060)          26  WEST GARFIELD PARK        26  \n",
       "\n",
       "[5 rows x 24 columns]"
      ]
     },
     "execution_count": 13,
     "metadata": {},
     "output_type": "execute_result"
    }
   ],
   "source": [
    "df_chicago.head()"
   ]
  },
  {
   "cell_type": "code",
   "execution_count": 15,
   "metadata": {},
   "outputs": [
    {
     "data": {
      "text/plain": [
       "Primary Type\n",
       "CRIMINAL SEXUAL ASSAULT       28748\n",
       "DOMESTIC VIOLENCE                 1\n",
       "HUMAN TRAFFICKING                67\n",
       "OFFENSE INVOLVING CHILDREN    47860\n",
       "PROSTITUTION                  68595\n",
       "SEX OFFENSE                   26328\n",
       "STALKING                       3798\n",
       "dtype: int64"
      ]
     },
     "execution_count": 15,
     "metadata": {},
     "output_type": "execute_result"
    }
   ],
   "source": [
    "# check the type and count of crime data\n",
    "df_chicago.groupby('Primary Type').size()\n"
   ]
  },
  {
   "cell_type": "code",
   "execution_count": 19,
   "metadata": {},
   "outputs": [
    {
     "name": "stdout",
     "output_type": "stream",
     "text": [
      "Size of violence against children: 47860\n",
      "Size of violence against women:28748\n"
     ]
    }
   ],
   "source": [
    "\n",
    "target_type=['SEX OFFENSE ','CRIMINAL SEXUAL ASSAULT']\n",
    "# subset data\n",
    "crime_children= df_chicago[df_chicago['Primary Type']=='OFFENSE INVOLVING CHILDREN']\n",
    "crime_sexual= df_chicago[df_chicago['Primary Type'].isin(target_type)]\n",
    "print(f'Size of violence against children: {crime_children.shape[0]}')\n",
    "print(f'Size of violence against women:{crime_sexual.shape[0]}')"
   ]
  },
  {
   "attachments": {},
   "cell_type": "markdown",
   "metadata": {},
   "source": [
    "# Spatial Pattern Analysis\n",
    "Code in this section is adapted from \n",
    "[construct spatial weight matrix](https://pysal.org/libpysal/generated/libpysal.weights.W.html#libpysal.weights.W)"
   ]
  },
  {
   "cell_type": "code",
   "execution_count": null,
   "metadata": {},
   "outputs": [],
   "source": [
    "# Visualise the distribution of "
   ]
  }
 ],
 "metadata": {
  "kernelspec": {
   "display_name": "machinel",
   "language": "python",
   "name": "python3"
  },
  "language_info": {
   "codemirror_mode": {
    "name": "ipython",
    "version": 3
   },
   "file_extension": ".py",
   "mimetype": "text/x-python",
   "name": "python",
   "nbconvert_exporter": "python",
   "pygments_lexer": "ipython3",
   "version": "3.10.9"
  },
  "orig_nbformat": 4
 },
 "nbformat": 4,
 "nbformat_minor": 2
}
